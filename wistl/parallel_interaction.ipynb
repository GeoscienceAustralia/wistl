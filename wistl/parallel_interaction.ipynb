{
 "worksheets": [
  {
   "cells": [
    {
     "cell_type": "code",
     "execution_count": null,
     "metadata": {},
     "outputs": [
      {
       "output_type": "stream",
       "stream": "stdout",
       "text": [
        "\n",
        "Welcome to pylab, a matplotlib-based Python environment [backend: module://IPython.zmq.pylab.backend_inline].\n",
        "For more information, type 'help(pylab)'.\n"
       ]
      }
     ],
     "input": [
      "%pylab inline"
     ],
     "language": "python",
     "prompt_number": 1
    },
    {
     "cell_type": "code",
     "execution_count": null,
     "metadata": {},
     "outputs": [
      {
       "output_type": "stream",
       "stream": "stdout",
       "text": [
        "R:\\wistl\\transmission\n"
       ]
      }
     ],
     "input": [
      "cd R:/wistl/transmission/"
     ],
     "language": "python",
     "prompt_number": 2
    },
    {
     "cell_type": "code",
     "execution_count": null,
     "metadata": {},
     "outputs": [
      {
       "output_type": "pyout",
       "prompt_number": 3,
       "text": [
        "u'R:\\\\wistl\\\\transmission'"
       ],
       "metadata": {}
      }
     ],
     "input": [
      "pwd"
     ],
     "language": "python",
     "prompt_number": 3
    },
    {
     "cell_type": "code",
     "execution_count": null,
     "metadata": {},
     "outputs": [
      {
       "output_type": "stream",
       "stream": "stderr",
       "text": [
        "C:\\Python27\\lib\\site-packages\\pandas\\computation\\expressions.py:21: UserWarning: The installed version of numexpr 2.0.1 is not supported in pandas and will be not be used\n",
        "The minimum supported version is 2.1\n",
        "\n",
        "  \"version is 2.1\\n\".format(ver=ver), UserWarning)\n"
       ]
      }
     ],
     "input": [
      "import matplotlib.pyplot as plt\n",
      "from config_class import TransmissionConfig\n",
      "from transmission_network import read_shape_file\n",
      "from shapely.geometry import LineString, Point, MultiPoint\n",
      "from geopy.distance import great_circle\n",
      "\n",
      "conf = TransmissionConfig(cfg_file='../tests/test.cfg')\n",
      "\n",
      "df_towers = read_shape_file(conf.file_shape_tower)\n",
      "df_lines = read_shape_file(conf.file_shape_line)"
     ],
     "language": "python",
     "prompt_number": 4
    },
    {
     "cell_type": "code",
     "execution_count": null,
     "metadata": {},
     "outputs": [],
     "input": [
      "#plt.figure()\n",
      "dump = []\n",
      "for _, line in df_lines.iterrows():\n",
      "    tmp = np.array(line.loc['Shapes'].points)\n",
      "    dump.append(tmp)"
     ],
     "language": "python",
     "prompt_number": 5
    },
    {
     "cell_type": "code",
     "execution_count": null,
     "metadata": {},
     "outputs": [],
     "input": [
      "def find_id_nearest_pt(pt_coords, line_coords):\n",
      "    \"\"\" sort towers by location\n",
      "    pt_coords: (,1) \n",
      "    line_coords: (#, 2)\n",
      "    \"\"\"\n",
      "    assert pt_coords.shape[1] == 2\n",
      "    assert line_coords.shape[1] == 2\n",
      "    diff = np.linalg.norm(line_coords - pt_coords, axis=1)\n",
      "    return np.argmin(diff)"
     ],
     "language": "python",
     "prompt_number": 6
    },
    {
     "cell_type": "code",
     "execution_count": null,
     "metadata": {},
     "outputs": [
      {
       "output_type": "stream",
       "stream": "stdout",
       "text": [
        "tower AC-100, line Calaca - Santa Rosa, distance 19.4943998012, height 2.71392149429e+001, id 0\n",
        "tower AC-103, line Calaca - Santa Rosa, distance 19.5482968612, height 2.34336102753e+001, id 0\n",
        "tower CB-002, line Calaca - Amadeo, distance 20.028732157, height 2.34336102753e+001, id 0\n",
        "tower CB-005, line Calaca - Amadeo, distance 20.9876408798, height 2.71392149429e+001, id 0\n"
       ]
      }
     ],
     "input": [
      "for _, tower in df_towers.iterrows():\n",
      "\n",
      "    pt_coord = np.array(tower.loc['Shapes'].points)\n",
      "    point_ = Point(pt_coord[0, :])\n",
      "    pt_lat_lon = pt_coord[:, ::-1]  # LAT, LON\n",
      "    \n",
      "    for _, line in df_lines.iterrows():\n",
      "\n",
      "        if tower['LineRoute'] <> line['LineRoute']:\n",
      "\n",
      "            line_ = LineString(line.loc['Shapes'].points)\n",
      "            line_coord = np.array(line.loc['Shapes'].points)\n",
      "            closest_pt = line_.interpolate(line_.project(point_))\n",
      "            closest_coord = np.array(closest_pt.coords)\n",
      "            closest_lat_lon = closest_coord[:, ::-1]  # LAT, LON\n",
      "\n",
      "            # compute_distance \n",
      "            dist_from_line = great_circle(pt_lat_lon, closest_lat_lon).meters\n",
      "            # check if the distance is less than height\n",
      "            if dist_from_line < float(tower['Height']):\n",
      "                id_pt = find_id_nearest_pt(closest_coord, line_coord)\n",
      "                print \"tower {}, line {}, distance {}, height {}, id {}\".format(\n",
      "                    tower['Name'], line['LineRoute'], dist_from_line, tower['Height'], id_pt)\n",
      "\n",
      "            #tower['Height']\n",
      "\n",
      "            # if then save lineRoute \n",
      "            # how to find closest tower id????\n",
      "\n",
      "            \"\"\"\n",
      "\n",
      "            plt.figure()\n",
      "            [plt.plot(tmp[:,0], tmp[:,1], 'o-') for tmp in dump]\n",
      "            tmp_ = np.array(point_.coords)\n",
      "            plt.plot(tmp_[:, 0], tmp_[:, 1], 'bo', markersize=14)\n",
      "            aa = np.array(closest_point.coords)\n",
      "            plt.plot(aa[:, 0], aa[:,1], 'r*', markersize=14)\n",
      "            \"\"\""
     ],
     "language": "python",
     "prompt_number": 7
    },
    {
     "cell_type": "code",
     "execution_count": null,
     "metadata": {},
     "outputs": [
      {
       "output_type": "pyout",
       "prompt_number": 8,
       "text": [
        "True"
       ],
       "metadata": {}
      }
     ],
     "input": [
      "closest_coord.shape[1] == 2"
     ],
     "language": "python",
     "prompt_number": 8
    },
    {
     "cell_type": "code",
     "execution_count": null,
     "metadata": {},
     "outputs": [
      {
       "output_type": "pyout",
       "prompt_number": 9,
       "text": [
        "(6, 2)"
       ],
       "metadata": {}
      }
     ],
     "input": [
      "line_coord.shape"
     ],
     "language": "python",
     "prompt_number": 9
    },
    {
     "cell_type": "code",
     "execution_count": null,
     "metadata": {},
     "outputs": [
      {
       "ename": "NameError",
       "evalue": "name 'aa' is not defined",
       "output_type": "pyerr",
       "traceback": [
        "\u001b[1;31m---------------------------------------------------------------------------\u001b[0m\n\u001b[1;31mNameError\u001b[0m                                 Traceback (most recent call last)",
        "\u001b[1;32m<ipython-input-10-d404401c8c64>\u001b[0m in \u001b[0;36m<module>\u001b[1;34m()\u001b[0m\n\u001b[1;32m----> 1\u001b[1;33m \u001b[0maa\u001b[0m\u001b[1;33m\u001b[0m\u001b[0m\n\u001b[0m",
        "\u001b[1;31mNameError\u001b[0m: name 'aa' is not defined"
       ]
      }
     ],
     "input": [
      "aa"
     ],
     "language": "python",
     "prompt_number": 10
    },
    {
     "cell_type": "code",
     "execution_count": null,
     "metadata": {},
     "outputs": [],
     "input": [
      "aa[:, ::-1]"
     ],
     "language": "python"
    },
    {
     "cell_type": "code",
     "execution_count": null,
     "metadata": {},
     "outputs": [],
     "input": [
      ""
     ],
     "language": "python"
    }
   ]
  }
 ],
 "cells": [],
 "metadata": {
  "name": "parallel_interaction"
 },
 "nbformat": 3,
 "nbformat_minor": 0
}