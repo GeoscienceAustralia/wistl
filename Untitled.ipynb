{
 "cells": [
  {
   "cell_type": "code",
   "execution_count": 47,
   "metadata": {},
   "outputs": [
    {
     "name": "stdout",
     "output_type": "stream",
     "text": [
      "Populating the interactive namespace from numpy and matplotlib\n"
     ]
    }
   ],
   "source": [
    "import numpy as np\n",
    "import pandas as pd\n",
    "import matplotlib.pyplot as plt\n",
    "%pylab inline"
   ]
  },
  {
   "cell_type": "code",
   "execution_count": 48,
   "metadata": {},
   "outputs": [],
   "source": [
    "import wistl.sim_towers as sim_towers\n",
    "from wistl.config import TransmissionConfig"
   ]
  },
  {
   "cell_type": "code",
   "execution_count": 50,
   "metadata": {},
   "outputs": [],
   "source": [
    "cfg = TransmissionConfig('./tests/test_line_interaction.cfg')"
   ]
  },
  {
   "cell_type": "code",
   "execution_count": 51,
   "metadata": {},
   "outputs": [
    {
     "name": "stdout",
     "output_type": "stream",
     "text": [
      "Computing damage probability using analytical method\n",
      "Analytical method took 0.0111410617828 seconds\n",
      "Computing damage probability using simulation method\n",
      "serial MC run on.......\n",
      "MC simulation took 138.150847912 seconds\n",
      "parallel line interaction......\n"
     ]
    }
   ],
   "source": [
    "(damaged_networks, damaged_lines) = sim_towers.sim_towers(cfg)"
   ]
  },
  {
   "cell_type": "code",
   "execution_count": 52,
   "metadata": {},
   "outputs": [
    {
     "data": {
      "text/plain": [
       "['test2_s4.0', 'test1_s3.0']"
      ]
     },
     "execution_count": 52,
     "output_type": "execute_result",
     "metadata": {}
    }
   ],
   "source": [
    "damaged_networks.keys()"
   ]
  },
  {
   "cell_type": "code",
   "execution_count": 53,
   "metadata": {},
   "outputs": [],
   "source": [
    "line = damaged_networks['test2_s4.0'].lines['Calaca - Amadeo']"
   ]
  },
  {
   "cell_type": "code",
   "execution_count": 54,
   "metadata": {},
   "outputs": [
    {
     "data": {
      "text/plain": [
       "(6, 5000, 1045)"
      ]
     },
     "execution_count": 54,
     "output_type": "execute_result",
     "metadata": {}
    }
   ],
   "source": [
    "line.tf_array_by_line['Amadeox - Calacax'].shape"
   ]
  },
  {
   "cell_type": "code",
   "execution_count": 55,
   "metadata": {},
   "outputs": [
    {
     "data": {
      "text/plain": [
       "wistl.transmission_network.TransmissionNetwork"
      ]
     },
     "execution_count": 55,
     "output_type": "execute_result",
     "metadata": {}
    }
   ],
   "source": [
    "damaged_network = damaged_networks['test2_s4.0']\n",
    "type(damaged_network)"
   ]
  },
  {
   "cell_type": "code",
   "execution_count": 57,
   "metadata": {},
   "outputs": [],
   "source": [
    "damaged_line = damaged_network.lines['Calaca - Amadeo']\n",
    "\n",
    "tf_ds = np.zeros((damaged_line.no_towers,\n",
    "                  damaged_line.cfg.no_sims,\n",
    "                  len(damaged_line.time_index)), dtype=bool)"
   ]
  },
  {
   "cell_type": "code",
   "execution_count": 58,
   "metadata": {},
   "outputs": [
    {
     "name": "stdout",
     "output_type": "stream",
     "text": [
      "Calaca - Amadeo\n"
     ]
    }
   ],
   "source": [
    "print(damaged_line.name)"
   ]
  },
  {
   "cell_type": "code",
   "execution_count": 68,
   "metadata": {},
   "outputs": [
    {
     "data": {
      "text/plain": [
       "(6, 5000, 1045)"
      ]
     },
     "execution_count": 68,
     "output_type": "execute_result",
     "metadata": {}
    }
   ],
   "source": [
    "damaged_network.lines['Amadeox - Calacax'].tf_array_by_line['Calaca - Amadeo'].shape"
   ]
  },
  {
   "cell_type": "code",
   "execution_count": 71,
   "metadata": {},
   "outputs": [],
   "source": [
    "list_relevant = []\n",
    "for key, value in damaged_line.cfg.line_interaction.iteritems():\n",
    "    if damaged_line.name in value:\n",
    "        list_relevant.append(key)\n",
    "        \n",
    "        tf_ds += damaged_network.lines[key].tf_array_by_line[damaged_line.name]"
   ]
  },
  {
   "cell_type": "code",
   "execution_count": 84,
   "metadata": {},
   "outputs": [
    {
     "data": {
      "text/plain": [
       "array([1, 1, 3, ..., 3, 1, 2])"
      ]
     },
     "execution_count": 84,
     "output_type": "execute_result",
     "metadata": {}
    }
   ],
   "source": [
    "tf_ds[:, :, 741].sum(axis=0)"
   ]
  },
  {
   "cell_type": "code",
   "execution_count": 88,
   "metadata": {},
   "outputs": [
    {
     "data": {
      "text/plain": [
       "array([   0,    0,    0, ..., 4999, 4999, 4999])"
      ]
     },
     "execution_count": 88,
     "output_type": "execute_result",
     "metadata": {}
    }
   ],
   "source": [
    "damaged_line.towers['AC-099'].damage_isolation_mc['collapse']['id_sim'].values"
   ]
  },
  {
   "cell_type": "code",
   "execution_count": 92,
   "metadata": {},
   "outputs": [
    {
     "data": {
      "text/plain": [
       "<matplotlib.axes._subplots.AxesSubplot at 0x1275aa5d0>"
      ]
     },
     "execution_count": 92,
     "output_type": "execute_result",
     "metadata": {}
    },
    {
     "data": {
      "image/png": "[encoded data removed]"
     },
     "output_type": "display_data",
     "metadata": {}
    }
   ],
   "source": [
    "# append collapse by isolation\n",
    "for tower in damaged_line.towers.itervalues():\n",
    "\n",
    "    tf_ds[tower.id,\n",
    "          tower.damage_isolation_mc['collapse']['id_sim'].values,\n",
    "          tower.damage_isolation_mc['collapse']['id_time'].values] = True\n",
    "\n",
    "    for id_adj, grouped in tower.damage_adjacent_mc.groupby('id_adj'):\n",
    "        for i in id_adj:\n",
    "            tf_ds[i, grouped['id_sim'].values, grouped['id_time'].values] = True\n",
    "\n",
    "\n",
    "tf_sim = dict()\n",
    "tf_sim['collapse'] = tf_ds\n",
    "tf_sim['minor'] = tf_ds\n",
    "\n",
    "(est, prob) = damaged_line.compute_damage_stats(tf_sim)\n",
    "\n",
    "(est['collapse']- damaged_line.est_no_damage_simulation['collapse'])['mean'].plot()"
   ]
  },
  {
   "cell_type": "code",
   "execution_count": null,
   "metadata": {},
   "outputs": [],
   "source": [
    "#tf_ds_collapse_isolation\n",
    "# collapse by adjacent towers\n",
    "for tower in damaged_line.towers.itervalues():\n",
    "    \n",
    "    for id_adj, grouped in tower.damage_adjacent_mc.groupby('id_adj'):\n",
    "        for i in id_adj:\n",
    "            tf_ds[i, grouped['id_sim'].values, grouped['id_time'].values] = True\n",
    "\n",
    "tf_sim = dict()\n",
    "tf_sim['collapse'] = tf_ds\n",
    "tf_sim['minor'] = tf_ds\n",
    "\n",
    "(est, prob) = damaged_line.compute_damage_stats(tf_sim)\n",
    "\n",
    "est['collapse'].plot()\n",
    "\n",
    "\n",
    "damaged_line.est_no_damage_simulation['collapse'].plot()"
   ]
  },
  {
   "cell_type": "code",
   "execution_count": 5,
   "metadata": {},
   "outputs": [
    {
     "name": "stdout",
     "output_type": "stream",
     "text": [
      "0.0:0.0377700333937\n",
      "0.2:0.31994710948\n",
      "0.5:0.45873553118\n",
      "0.5:0.617590659514\n",
      "0.9:0.761418465102\n",
      "0.35:0.450655979037\n",
      "0.05:0.110418062933\n",
      "0.2:0.135965215778\n",
      "0.6:0.540116911949\n",
      "0.85:0.929917045518\n",
      "0.95:0.869587809994\n",
      "0.6:0.542474690508\n",
      "0.1:0.1810079591\n",
      "0.5:0.459733454979\n",
      "0.0:0.0147786484814\n",
      "0.1:0.0739051902147\n",
      "0.15:0.129551638904\n",
      "0.3:0.20125929653\n",
      "0.15:0.303308477684\n",
      "0.75:0.546522699541\n",
      "0.6:0.673188328377\n",
      "0.7:0.762772786077\n",
      "0.95:0.846781056714\n",
      "1.0:0.911921262675\n",
      "0.75:0.826495953901\n",
      "0.25:0.196707919951\n",
      "0.0:0.0414872591689\n",
      "0.1:0.051219985122\n",
      "0.2:0.250265926625\n",
      "1.0:0.931825886587\n",
      "0.85:0.909463784399\n",
      "0.65:0.798505507762\n",
      "0.65:0.557770915927\n",
      "0.4:0.251779764485\n",
      "0.05:0.0689760959997\n",
      "0.35:0.201825084534\n",
      "0.0:0.0547698341233\n",
      "0.2:0.425111921161\n",
      "0.75:0.917798146963\n",
      "0.2:0.268008768516\n",
      "0.0:0.0210214639366\n",
      "0.05:0.137385833265\n",
      "0.45:0.484321744787\n",
      "0.95:0.865314878839\n",
      "0.4:0.54775368159\n",
      "0.05:0.0839758216029\n",
      "0.05:0.0650210040023\n",
      "0.5:0.38391226139\n",
      "0.9:0.846302599315\n",
      "0.85:0.95428124193\n",
      "0.6:0.705637702099\n",
      "1.0:0.905743107927\n",
      "0.6:0.525736199489\n",
      "0.05:0.068440175443\n",
      "0.45:0.261115317572\n",
      "0.0:0.0234310862565\n",
      "0.85:0.789853497531\n",
      "0.8:0.923286635313\n",
      "0.6:0.71698081252\n",
      "0.3:0.365480824422\n",
      "0.35:0.390254236164\n",
      "0.9:0.96682832967\n",
      "0.9:0.960650171846\n",
      "0.65:0.608570813393\n",
      "0.4:0.234302697835\n",
      "0.0:0.0246260857894\n",
      "0.3:0.0988167166399\n",
      "0.1:0.0675999459893\n",
      "0.3:0.391258252927\n",
      "0.05:0.0248702232975\n",
      "0.1:0.125014566235\n",
      "0.25:0.393929087738\n",
      "0.6:0.740290840621\n",
      "0.8:0.95217889943\n",
      "0.0:0.027078770062\n",
      "0.25:0.333469818764\n",
      "0.45:0.584405027605\n",
      "0.65:0.788636962107\n",
      "0.85:0.926846913094\n",
      "0.35:0.39568252361\n",
      "0.0:0.0249111676081\n",
      "0.05:0.020173422408\n",
      "0.45:0.395129512728\n",
      "0.45:0.328263669882\n",
      "0.0:0.019456235596\n",
      "0.0:0.0122255047608\n",
      "0.15:0.204931678663\n",
      "0.4:0.33294918455\n",
      "0.45:0.500884686206\n",
      "0.8:0.672142146805\n",
      "0.8:0.903345425825\n",
      "0.8:0.887974345324\n",
      "0.15:0.12660023636\n",
      "0.0:0.0114857387178\n",
      "0.1:0.126401542127\n",
      "0.2:0.330992703673\n",
      "0.05:0.103343759878\n",
      "0.0:0.0265500570165\n",
      "0.7:0.792122471061\n",
      "0.0:0.0556759173865\n",
      "0.05:0.00740317580665\n",
      "0.0:0.0120461187432\n",
      "0.3:0.196628495806\n",
      "0.45:0.548546203158\n",
      "0.55:0.707087528343\n",
      "0.7:0.823966843752\n",
      "0.85:0.912473945141\n",
      "0.8:0.927526059395\n",
      "0.65:0.696847094355\n",
      "0.25:0.335887680978\n",
      "0.15:0.10555211776\n",
      "0.0:0.0212963518943\n"
     ]
    }
   ],
   "source": [
    "for line_name, damaged_line  in damaged_network.lines.iteritems():\n",
    "\n",
    "    tf_ds = np.zeros((damaged_line.no_towers,\n",
    "                      damaged_line.cfg.no_sims,\n",
    "                      len(damaged_line.time_index)), dtype=bool)\n",
    "\n",
    "    # add collapse by line interaction\n",
    "    list_relavant = []\n",
    "    for key, value in damaged_line.cfg.line_interaction.iteritems():\n",
    "        if line_name in value:\n",
    "            list_relavant.append(key)\n",
    "\n",
    "            tf_ds += damaged_network.lines[key].\n",
    "            \n",
    "\n",
    "\n",
    "    # collapse by adjacent towers\n",
    "    for tower in self.towers.itervalues():\n",
    "\n",
    "        # tower.compute_mc_adj(rv, seed)\n",
    "        tower.determine_damage_isolation_mc(rv)\n",
    "        tower.determine_damage_adjacent_mc(seed)\n",
    "\n",
    "        for id_adj, grouped in tower.damage_adjacent_mc.groupby('id_adj'):\n",
    "            for i in id_adj:\n",
    "                tf_ds[i, grouped['id_sim'].values, grouped['id_time'].values] = True\n",
    "\n",
    "    cds_list = self.cfg.damage_states[:]  # to avoid effect\n",
    "    cds_list.reverse()  # [collapse, minor]\n",
    "\n",
    "    tf_sim = dict()\n",
    "    # append damage state by direct wind\n",
    "    for ds in cds_list:\n",
    "        for tower in self.towers.itervalues():\n",
    "\n",
    "            tf_ds[tower.id,\n",
    "                  tower.damage_isolation_mc[ds].id_sim,\n",
    "                  tower.damage_isolation_mc[ds].id_time] = True\n",
    "\n",
    "        self.damage_prob_simulation[ds] = pd.DataFrame(\n",
    "            np.sum(tf_ds, axis=1).T / float(self.cfg.no_sims),\n",
    "            columns=self.name_by_line,\n",
    "            index=self.time_index)\n",
    "\n",
    "        tf_sim[ds] = np.copy(tf_ds)  #\n",
    "\n",
    "    self.est_no_damage_simulation, self.prob_no_damage_simulation = \\\n",
    "        self.compute_damage_stats(tf_sim)\n",
    "\n",
    "    if self.cfg.save:\n",
    "        self.write_hdf5(file_str='damage_prob_simulation',\n",
    "                        value=self.damage_prob_simulation)\n",
    "\n",
    "        self.write_hdf5(file_str='est_no_damage_simulation',\n",
    "                        value=self.est_no_damage_simulation)\n",
    "\n",
    "        self.write_hdf5(file_str='prob_no_damage_simulation',\n",
    "                        value=self.prob_no_damage_simulation)"
   ]
  },
  {
   "cell_type": "code",
   "execution_count": 6,
   "metadata": {},
   "outputs": [],
   "source": [
    "line.compute_damage_probability_simulation_line_interaction(11)"
   ]
  },
  {
   "cell_type": "code",
   "execution_count": 12,
   "metadata": {},
   "outputs": [
    {
     "data": {
      "text/plain": [
       "array([0, 0, 0, 0, 0, 0])"
      ]
     },
     "execution_count": 12,
     "output_type": "execute_result",
     "metadata": {}
    }
   ],
   "source": [
    "line.tf_array_by_line['Amadeox - Calacax'].sum(axis=1).sum(axis=1)"
   ]
  },
  {
   "cell_type": "code",
   "execution_count": 16,
   "metadata": {},
   "outputs": [
    {
     "data": {
      "text/plain": [
       "(6, 20, 1045)"
      ]
     },
     "execution_count": 16,
     "output_type": "execute_result",
     "metadata": {}
    }
   ],
   "source": [
    "line.tf_array_by_line['Calaca - Santa Rosa'].shape"
   ]
  },
  {
   "cell_type": "code",
   "execution_count": 15,
   "metadata": {},
   "outputs": [
    {
     "data": {
      "text/plain": [
       "20"
      ]
     },
     "execution_count": 15,
     "output_type": "execute_result",
     "metadata": {}
    }
   ],
   "source": [
    "cfg.no_sims"
   ]
  },
  {
   "cell_type": "code",
   "execution_count": null,
   "metadata": {},
   "outputs": [],
   "source": [
    ""
   ]
  }
 ],
 "metadata": {
  "kernelspec": {
   "display_name": "Python 2",
   "language": "python",
   "name": "python2"
  },
  "language_info": {
   "codemirror_mode": {
    "name": "ipython",
    "version": 2.0
   },
   "file_extension": ".py",
   "mimetype": "text/x-python",
   "name": "python",
   "nbconvert_exporter": "python",
   "pygments_lexer": "ipython2",
   "version": "2.7.11"
  }
 },
 "nbformat": 4,
 "nbformat_minor": 0
}