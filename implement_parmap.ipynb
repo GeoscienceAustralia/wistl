{
 "cells": [
  {
   "cell_type": "code",
   "execution_count": 1,
   "metadata": {
    "collapsed": false
   },
   "outputs": [
    {
     "name": "stdout",
     "output_type": "stream",
     "text": [
      "Populating the interactive namespace from numpy and matplotlib\n"
     ]
    }
   ],
   "source": [
    "import numpy as np\n",
    "import pandas as pd\n",
    "import matplotlib.pyplot as plt\n",
    "%pylab inline"
   ]
  },
  {
   "cell_type": "code",
   "execution_count": 3,
   "metadata": {
    "collapsed": false
   },
   "outputs": [
    {
     "name": "stderr",
     "output_type": "stream",
     "text": [
      "/Users/hyeuk/anaconda2/envs/wistl/lib/python2.7/site-packages/matplotlib/__init__.py:1350: UserWarning:  This call to matplotlib.use() has no effect\n",
      "because the backend has already been chosen;\n",
      "matplotlib.use() must be called *before* pylab, matplotlib.pyplot,\n",
      "or matplotlib.backends is imported for the first time.\n",
      "\n",
      "  warnings.warn(_use_error_msg)\n"
     ]
    }
   ],
   "source": [
    "import wistl.sim_towers as sim_towers\n",
    "from wistl.config import TransmissionConfig"
   ]
  },
  {
   "cell_type": "code",
   "execution_count": 4,
   "metadata": {
    "collapsed": true
   },
   "outputs": [],
   "source": [
    "cfg = TransmissionConfig('./tests/test_line_interaction.cfg')"
   ]
  },
  {
   "cell_type": "code",
   "execution_count": 5,
   "metadata": {
    "collapsed": false
   },
   "outputs": [
    {
     "data": {
      "text/plain": [
       "True"
      ]
     },
     "execution_count": 5,
     "metadata": {},
     "output_type": "execute_result"
    }
   ],
   "source": [
    "cfg.parallel"
   ]
  },
  {
   "cell_type": "code",
   "execution_count": 6,
   "metadata": {
    "collapsed": false
   },
   "outputs": [
    {
     "name": "stdout",
     "output_type": "stream",
     "text": [
      "Computing damage probability using analytical method\n",
      "Analytical method took 0.013200044632 seconds\n",
      "Computing damage probability using simulation method\n",
      "parallel MC run on.......\n",
      "0.2285:0.207606640385\n",
      "0.172:0.154107233465\n",
      "0.1145:0.0988350129271\n",
      "0.1225:0.106515620168\n",
      "0.2225:0.200897772912\n",
      "[<wistl.transmission_line.TransmissionLine object at 0x11c3a3e90>, <wistl.transmission_line.TransmissionLine object at 0x111a78850>, <wistl.transmission_line.TransmissionLine object at 0x11deaeed0>, <wistl.transmission_line.TransmissionLine object at 0x111a934d0>, <wistl.transmission_line.TransmissionLine object at 0x111c75ed0>, <wistl.transmission_line.TransmissionLine object at 0x111cf4fd0>]\n",
      "MC simulation took 13.6645560265 seconds\n"
     ]
    }
   ],
   "source": [
    "(damaged_networks, damaged_lines) = sim_towers.sim_towers(cfg)"
   ]
  },
  {
   "cell_type": "code",
   "execution_count": 32,
   "metadata": {
    "collapsed": false
   },
   "outputs": [
    {
     "data": {
      "text/plain": [
       "'test1_s3.0'"
      ]
     },
     "execution_count": 32,
     "metadata": {},
     "output_type": "execute_result"
    }
   ],
   "source": [
    "damaged_lines[0].event_id_scale"
   ]
  },
  {
   "cell_type": "code",
   "execution_count": 30,
   "metadata": {
    "collapsed": false
   },
   "outputs": [
    {
     "data": {
      "text/plain": [
       "{'test1_s3.0': {'Amadeox - Calacax': <wistl.transmission_line.TransmissionLine at 0x11c3a3e90>,\n",
       "  'Calaca - Amadeo': <wistl.transmission_line.TransmissionLine at 0x111a78850>,\n",
       "  'Calaca - Santa Rosa': <wistl.transmission_line.TransmissionLine at 0x11deaeed0>},\n",
       " 'test2_s2.0': {'Amadeox - Calacax': <wistl.transmission_line.TransmissionLine at 0x111a934d0>,\n",
       "  'Calaca - Amadeo': <wistl.transmission_line.TransmissionLine at 0x111c75ed0>,\n",
       "  'Calaca - Santa Rosa': <wistl.transmission_line.TransmissionLine at 0x111cf4fd0>}}"
      ]
     },
     "execution_count": 30,
     "metadata": {},
     "output_type": "execute_result"
    }
   ],
   "source": [
    "event_id_scale_list = []\n",
    "for key, value in cfg.scale.iteritems():\n",
    "    for item in value:\n",
    "        event_id_scale_list.append(cfg.event_id_scale_str.format(event_id=key, scale=item))\n",
    "\n",
    "network_by_event_id_scale = {key: dict() for key in event_id_scale_list}\n",
    "\n",
    "for line in damaged_lines:\n",
    "    network_by_event_id_scale[line.event_id_scale][line.name] = line\n",
    "\n",
    "network_by_event_id_scale"
   ]
  },
  {
   "cell_type": "code",
   "execution_count": 10,
   "metadata": {
    "collapsed": false
   },
   "outputs": [
    {
     "data": {
      "text/plain": [
       "['test1_s3.0', 'test2_s2.0']"
      ]
     },
     "execution_count": 10,
     "metadata": {},
     "output_type": "execute_result"
    }
   ],
   "source": [
    "damaged_networks.keys()"
   ]
  },
  {
   "cell_type": "code",
   "execution_count": 14,
   "metadata": {
    "collapsed": false
   },
   "outputs": [
    {
     "data": {
      "text/plain": [
       "{'test1': [3.0], 'test2': [2.0]}"
      ]
     },
     "execution_count": 14,
     "metadata": {},
     "output_type": "execute_result"
    }
   ],
   "source": [
    "cfg.scale"
   ]
  },
  {
   "cell_type": "code",
   "execution_count": null,
   "metadata": {
    "collapsed": true
   },
   "outputs": [],
   "source": []
  }
 ],
 "metadata": {
  "kernelspec": {
   "display_name": "Python 2",
   "language": "python",
   "name": "python2"
  },
  "language_info": {
   "codemirror_mode": {
    "name": "ipython",
    "version": 2
   },
   "file_extension": ".py",
   "mimetype": "text/x-python",
   "name": "python",
   "nbconvert_exporter": "python",
   "pygments_lexer": "ipython2",
   "version": "2.7.11"
  }
 },
 "nbformat": 4,
 "nbformat_minor": 0
}
