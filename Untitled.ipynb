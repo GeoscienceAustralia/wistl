{
 "cells": [
  {
   "cell_type": "code",
   "execution_count": 1,
   "metadata": {
    "collapsed": true
   },
   "outputs": [],
   "source": [
    "import logging"
   ]
  },
  {
   "cell_type": "code",
   "execution_count": 20,
   "metadata": {
    "collapsed": true
   },
   "outputs": [],
   "source": [
    "import pandas as pd\n",
    "import numpy as np\n",
    "import parmap"
   ]
  },
  {
   "cell_type": "code",
   "execution_count": 3,
   "metadata": {
    "collapsed": false
   },
   "outputs": [],
   "source": [
    "logging.basicConfig(level='logging.INFO')"
   ]
  },
  {
   "cell_type": "code",
   "execution_count": 4,
   "metadata": {
    "collapsed": true
   },
   "outputs": [],
   "source": [
    "from wistl.config import Config"
   ]
  },
  {
   "cell_type": "code",
   "execution_count": 5,
   "metadata": {
    "collapsed": true
   },
   "outputs": [],
   "source": [
    "cfg = Config('./wistl/tests/test.cfg')"
   ]
  },
  {
   "cell_type": "code",
   "execution_count": 6,
   "metadata": {
    "collapsed": false
   },
   "outputs": [
    {
     "data": {
      "text/plain": [
       "'{event_name}_s{scale:.1f}'"
      ]
     },
     "execution_count": 6,
     "metadata": {},
     "output_type": "execute_result"
    }
   ],
   "source": [
    "cfg.event_id_format"
   ]
  },
  {
   "cell_type": "code",
   "execution_count": 7,
   "metadata": {
    "collapsed": false
   },
   "outputs": [
    {
     "data": {
      "text/plain": [
       "[('test1', 3.0), ('test2', 2.5), ('test2', 3.5)]"
      ]
     },
     "execution_count": 7,
     "metadata": {},
     "output_type": "execute_result"
    }
   ],
   "source": [
    "cfg.event_id"
   ]
  },
  {
   "cell_type": "code",
   "execution_count": 24,
   "metadata": {
    "collapsed": true
   },
   "outputs": [],
   "source": [
    "from wistl.sim_towers import run_simulation"
   ]
  },
  {
   "cell_type": "code",
   "execution_count": 28,
   "metadata": {
    "collapsed": false
   },
   "outputs": [
    {
     "data": {
      "text/plain": [
       "'/Users/hyeuk/Projects/wistl/wistl/tests/./wind_scenario/test2'"
      ]
     },
     "execution_count": 28,
     "metadata": {},
     "output_type": "execute_result"
    }
   ],
   "source": [
    "network['Calaca - Amadeo'].path_event"
   ]
  },
  {
   "cell_type": "code",
   "execution_count": 41,
   "metadata": {
    "collapsed": true
   },
   "outputs": [],
   "source": [
    "_list = [1, 2]"
   ]
  },
  {
   "cell_type": "code",
   "execution_count": 42,
   "metadata": {
    "collapsed": false
   },
   "outputs": [],
   "source": [
    "_list.remove(2)"
   ]
  },
  {
   "cell_type": "code",
   "execution_count": 43,
   "metadata": {
    "collapsed": false
   },
   "outputs": [
    {
     "data": {
      "text/plain": [
       "[1]"
      ]
     },
     "execution_count": 43,
     "metadata": {},
     "output_type": "execute_result"
    }
   ],
   "source": [
    "_list"
   ]
  },
  {
   "cell_type": "code",
   "execution_count": 8,
   "metadata": {
    "collapsed": true
   },
   "outputs": [],
   "source": [
    "from wistl.transmission_line import compute_damage_probability_per_line"
   ]
  },
  {
   "cell_type": "code",
   "execution_count": 23,
   "metadata": {
    "collapsed": false
   },
   "outputs": [
    {
     "ename": "TypeError",
     "evalue": "can't pickle thread.lock objects",
     "output_type": "error",
     "traceback": [
      "\u001b[0;31m---------------------------------------------------------------------------\u001b[0m",
      "\u001b[0;31mTypeError\u001b[0m                                 Traceback (most recent call last)",
      "\u001b[0;32m<ipython-input-23-f90883bf3923>\u001b[0m in \u001b[0;36m<module>\u001b[0;34m()\u001b[0m\n\u001b[0;32m----> 1\u001b[0;31m \u001b[0mnetworks\u001b[0m \u001b[0;34m=\u001b[0m \u001b[0mparmap\u001b[0m\u001b[0;34m.\u001b[0m\u001b[0mmap\u001b[0m\u001b[0;34m(\u001b[0m\u001b[0mcreate_transmission_network_under_wind_event\u001b[0m\u001b[0;34m,\u001b[0m \u001b[0mcfg\u001b[0m\u001b[0;34m.\u001b[0m\u001b[0mevent_id\u001b[0m\u001b[0;34m,\u001b[0m \u001b[0mcfg\u001b[0m\u001b[0;34m)\u001b[0m\u001b[0;34m\u001b[0m\u001b[0m\n\u001b[0m",
      "\u001b[0;32m/Users/hyeuk/anaconda2/envs/wistl/lib/python2.7/site-packages/parmap.pyc\u001b[0m in \u001b[0;36mmap\u001b[0;34m(function, iterable, *args, **kwargs)\u001b[0m\n\u001b[1;32m    145\u001b[0m                               izip(repeat(function), iterable,\n\u001b[1;32m    146\u001b[0m                                    repeat(list(args))),\n\u001b[0;32m--> 147\u001b[0;31m                               chunksize)\n\u001b[0m\u001b[1;32m    148\u001b[0m         \u001b[0;32mfinally\u001b[0m\u001b[0;34m:\u001b[0m\u001b[0;34m\u001b[0m\u001b[0m\n\u001b[1;32m    149\u001b[0m             \u001b[0;32mif\u001b[0m \u001b[0mclose_pool\u001b[0m\u001b[0;34m:\u001b[0m\u001b[0;34m\u001b[0m\u001b[0m\n",
      "\u001b[0;32m/Users/hyeuk/anaconda2/envs/wistl/lib/python2.7/multiprocessing/pool.pyc\u001b[0m in \u001b[0;36mmap\u001b[0;34m(self, func, iterable, chunksize)\u001b[0m\n\u001b[1;32m    249\u001b[0m         '''\n\u001b[1;32m    250\u001b[0m         \u001b[0;32massert\u001b[0m \u001b[0mself\u001b[0m\u001b[0;34m.\u001b[0m\u001b[0m_state\u001b[0m \u001b[0;34m==\u001b[0m \u001b[0mRUN\u001b[0m\u001b[0;34m\u001b[0m\u001b[0m\n\u001b[0;32m--> 251\u001b[0;31m         \u001b[0;32mreturn\u001b[0m \u001b[0mself\u001b[0m\u001b[0;34m.\u001b[0m\u001b[0mmap_async\u001b[0m\u001b[0;34m(\u001b[0m\u001b[0mfunc\u001b[0m\u001b[0;34m,\u001b[0m \u001b[0miterable\u001b[0m\u001b[0;34m,\u001b[0m \u001b[0mchunksize\u001b[0m\u001b[0;34m)\u001b[0m\u001b[0;34m.\u001b[0m\u001b[0mget\u001b[0m\u001b[0;34m(\u001b[0m\u001b[0;34m)\u001b[0m\u001b[0;34m\u001b[0m\u001b[0m\n\u001b[0m\u001b[1;32m    252\u001b[0m \u001b[0;34m\u001b[0m\u001b[0m\n\u001b[1;32m    253\u001b[0m     \u001b[0;32mdef\u001b[0m \u001b[0mimap\u001b[0m\u001b[0;34m(\u001b[0m\u001b[0mself\u001b[0m\u001b[0;34m,\u001b[0m \u001b[0mfunc\u001b[0m\u001b[0;34m,\u001b[0m \u001b[0miterable\u001b[0m\u001b[0;34m,\u001b[0m \u001b[0mchunksize\u001b[0m\u001b[0;34m=\u001b[0m\u001b[0;36m1\u001b[0m\u001b[0;34m)\u001b[0m\u001b[0;34m:\u001b[0m\u001b[0;34m\u001b[0m\u001b[0m\n",
      "\u001b[0;32m/Users/hyeuk/anaconda2/envs/wistl/lib/python2.7/multiprocessing/pool.pyc\u001b[0m in \u001b[0;36mget\u001b[0;34m(self, timeout)\u001b[0m\n\u001b[1;32m    565\u001b[0m             \u001b[0;32mreturn\u001b[0m \u001b[0mself\u001b[0m\u001b[0;34m.\u001b[0m\u001b[0m_value\u001b[0m\u001b[0;34m\u001b[0m\u001b[0m\n\u001b[1;32m    566\u001b[0m         \u001b[0;32melse\u001b[0m\u001b[0;34m:\u001b[0m\u001b[0;34m\u001b[0m\u001b[0m\n\u001b[0;32m--> 567\u001b[0;31m             \u001b[0;32mraise\u001b[0m \u001b[0mself\u001b[0m\u001b[0;34m.\u001b[0m\u001b[0m_value\u001b[0m\u001b[0;34m\u001b[0m\u001b[0m\n\u001b[0m\u001b[1;32m    568\u001b[0m \u001b[0;34m\u001b[0m\u001b[0m\n\u001b[1;32m    569\u001b[0m     \u001b[0;32mdef\u001b[0m \u001b[0m_set\u001b[0m\u001b[0;34m(\u001b[0m\u001b[0mself\u001b[0m\u001b[0;34m,\u001b[0m \u001b[0mi\u001b[0m\u001b[0;34m,\u001b[0m \u001b[0mobj\u001b[0m\u001b[0;34m)\u001b[0m\u001b[0;34m:\u001b[0m\u001b[0;34m\u001b[0m\u001b[0m\n",
      "\u001b[0;31mTypeError\u001b[0m: can't pickle thread.lock objects"
     ]
    }
   ],
   "source": [
    "networks = parmap.map(create_transmission_network_under_wind_event, cfg.event_id, cfg)\n"
   ]
  },
  {
   "cell_type": "code",
   "execution_count": 15,
   "metadata": {
    "collapsed": false
   },
   "outputs": [],
   "source": [
    "damage_by_event = {}\n",
    "# create transmission network with wind event\n",
    "for event_id in cfg.event_id:\n",
    "\n",
    "    network = create_transmission_network_under_wind_event(\n",
    "        event_id, cfg)\n",
    "\n",
    "    for _, line in network.lines.items():\n",
    "        compute_damage_probability_per_line(line=line, cfg=cfg)\n",
    "\n",
    "    network = {line.name: line for _, line in network.lines.items()}\n",
    "\n",
    "    # if cfg.line_interaction:\n",
    "    #     network_dic = \\\n",
    "    #         compute_damage_probability_line_interaction_per_network(\n",
    "    #             network_dic)\n",
    "\n",
    "    damage_by_event[event_id] = network\n"
   ]
  },
  {
   "cell_type": "code",
   "execution_count": 19,
   "metadata": {
    "collapsed": false
   },
   "outputs": [
    {
     "data": {
      "text/plain": [
       "'test2_s2.5'"
      ]
     },
     "execution_count": 19,
     "metadata": {},
     "output_type": "execute_result"
    }
   ],
   "source": [
    "damage_by_event[('test2', 2.5)]['Calaca - Amadeo'].event_id"
   ]
  },
  {
   "cell_type": "code",
   "execution_count": 14,
   "metadata": {
    "collapsed": false
   },
   "outputs": [
    {
     "data": {
      "text/plain": [
       "[{'Calaca - Amadeo': <wistl.transmission_line.TransmissionLine at 0x10ccc1a50>,\n",
       "  'Calaca - Santa Rosa': <wistl.transmission_line.TransmissionLine at 0x10ccb0790>},\n",
       " {'Calaca - Amadeo': <wistl.transmission_line.TransmissionLine at 0x10cd9d4d0>,\n",
       "  'Calaca - Santa Rosa': <wistl.transmission_line.TransmissionLine at 0x10cd9d0d0>},\n",
       " {'Calaca - Amadeo': <wistl.transmission_line.TransmissionLine at 0x10cdc9590>,\n",
       "  'Calaca - Santa Rosa': <wistl.transmission_line.TransmissionLine at 0x10cdc9510>}]"
      ]
     },
     "execution_count": 14,
     "metadata": {},
     "output_type": "execute_result"
    }
   ],
   "source": [
    "damaged_lines"
   ]
  },
  {
   "cell_type": "code",
   "execution_count": null,
   "metadata": {
    "collapsed": false
   },
   "outputs": [],
   "source": [
    "damaged_lines"
   ]
  },
  {
   "cell_type": "code",
   "execution_count": null,
   "metadata": {
    "collapsed": false
   },
   "outputs": [],
   "source": [
    "cfg.event_id"
   ]
  },
  {
   "cell_type": "code",
   "execution_count": null,
   "metadata": {
    "collapsed": false
   },
   "outputs": [],
   "source": [
    "cfg.event_id_format"
   ]
  },
  {
   "cell_type": "code",
   "execution_count": null,
   "metadata": {
    "collapsed": true
   },
   "outputs": [],
   "source": [
    "cfg.options['run_parallel'] = False"
   ]
  },
  {
   "cell_type": "code",
   "execution_count": 10,
   "metadata": {
    "collapsed": true
   },
   "outputs": [],
   "source": [
    "from wistl.sim_towers import run_simulation"
   ]
  },
  {
   "cell_type": "code",
   "execution_count": 11,
   "metadata": {
    "collapsed": true
   },
   "outputs": [],
   "source": [
    "from wistl.transmission_network import create_transmission_network_under_wind_event"
   ]
  },
  {
   "cell_type": "code",
   "execution_count": 12,
   "metadata": {
    "collapsed": false
   },
   "outputs": [],
   "source": [
    "network = create_transmission_network_under_wind_event(cfg.event_id[0], cfg)"
   ]
  },
  {
   "cell_type": "code",
   "execution_count": null,
   "metadata": {
    "collapsed": false
   },
   "outputs": [],
   "source": [
    "dir(network.lines['Calaca - Amadeo'])"
   ]
  },
  {
   "cell_type": "code",
   "execution_count": null,
   "metadata": {
    "collapsed": false
   },
   "outputs": [],
   "source": [
    "result = run_simulation(cfg)"
   ]
  },
  {
   "cell_type": "code",
   "execution_count": null,
   "metadata": {
    "collapsed": false
   },
   "outputs": [],
   "source": [
    "result[0]"
   ]
  },
  {
   "cell_type": "code",
   "execution_count": null,
   "metadata": {
    "collapsed": true
   },
   "outputs": [],
   "source": [
    "result['Cala']"
   ]
  },
  {
   "cell_type": "code",
   "execution_count": null,
   "metadata": {
    "collapsed": false
   },
   "outputs": [],
   "source": [
    "result[1]"
   ]
  },
  {
   "cell_type": "code",
   "execution_count": null,
   "metadata": {
    "collapsed": false
   },
   "outputs": [],
   "source": [
    "result[2]"
   ]
  },
  {
   "cell_type": "code",
   "execution_count": null,
   "metadata": {
    "collapsed": true
   },
   "outputs": [],
   "source": [
    "from wistl.transmission_network import TransmissionNetwork"
   ]
  },
  {
   "cell_type": "code",
   "execution_count": null,
   "metadata": {
    "collapsed": true
   },
   "outputs": [],
   "source": [
    "network = TransmissionNetwork(cfg=cfg, event_id='test1', scale=3.0)"
   ]
  },
  {
   "cell_type": "code",
   "execution_count": null,
   "metadata": {
    "collapsed": false
   },
   "outputs": [],
   "source": [
    "cfg.event_id_scale"
   ]
  },
  {
   "cell_type": "code",
   "execution_count": null,
   "metadata": {
    "collapsed": false
   },
   "outputs": [],
   "source": [
    "network.path_output"
   ]
  },
  {
   "cell_type": "code",
   "execution_count": null,
   "metadata": {
    "collapsed": false
   },
   "outputs": [],
   "source": [
    "network.lines['Calaca - Santa Rosa'].damage_prob_analytical['collapse'].max(axis=0)"
   ]
  },
  {
   "cell_type": "code",
   "execution_count": null,
   "metadata": {
    "collapsed": false
   },
   "outputs": [],
   "source": [
    "network.lines['Calaca - Amadeo'].towers[3].frag_arg"
   ]
  },
  {
   "cell_type": "code",
   "execution_count": null,
   "metadata": {
    "collapsed": false
   },
   "outputs": [],
   "source": [
    "cfg.towers.loc[0].cond_pc\n"
   ]
  },
  {
   "cell_type": "code",
   "execution_count": null,
   "metadata": {
    "collapsed": false
   },
   "outputs": [],
   "source": [
    "from scipy.stats import lognorm"
   ]
  },
  {
   "cell_type": "code",
   "execution_count": null,
   "metadata": {
    "collapsed": false
   },
   "outputs": [],
   "source": [
    "cfg.event_id_scale"
   ]
  },
  {
   "cell_type": "code",
   "execution_count": null,
   "metadata": {
    "collapsed": false
   },
   "outputs": [],
   "source": [
    "cfg.options"
   ]
  },
  {
   "cell_type": "code",
   "execution_count": null,
   "metadata": {
    "collapsed": false
   },
   "outputs": [],
   "source": [
    "cfg.seed"
   ]
  },
  {
   "cell_type": "code",
   "execution_count": null,
   "metadata": {
    "collapsed": false
   },
   "outputs": [],
   "source": [
    "network.lines['Calaca - Amadeo']"
   ]
  },
  {
   "cell_type": "code",
   "execution_count": null,
   "metadata": {
    "collapsed": false
   },
   "outputs": [],
   "source": [
    "self = network.lines['Calaca - Santa Rosa'].towers[0]\n",
    "wind = pd.read_csv('./wistl/tests/wind_scenario/test1/ts.AC-099.csv', parse_dates=[0], index_col=[0], usecols=[0, 3, 6])\n",
    "row = wind.iloc[0]"
   ]
  },
  {
   "cell_type": "code",
   "execution_count": null,
   "metadata": {
    "collapsed": true
   },
   "outputs": [],
   "source": [
    "    # angle of conductor relative to NS\n",
    "    t0 = np.deg2rad(self.AxisAz) - np.pi / 2.0\n",
    "\n",
    "    # angle between wind direction and tower conductor\n",
    "    phi = np.abs(np.deg2rad(row.Bearing) - t0)\n",
    "    tf = (phi <= np.pi / 4) | (phi > np.pi / 4 * 7) | \\\n",
    "         ((phi > np.pi / 4 * 3) & (phi <= np.pi / 4 * 5))\n",
    "\n",
    "    _cos = abs(np.cos(np.pi / 4.0 - phi))\n",
    "    _sin = abs(np.sin(np.pi / 4.0 - phi))\n",
    "\n",
    "    adjustment = row.Speed * np.max(_cos, _sin)\n",
    "\n"
   ]
  },
  {
   "cell_type": "code",
   "execution_count": null,
   "metadata": {
    "collapsed": false
   },
   "outputs": [],
   "source": [
    "np.max(np.vstack((_cos, _sin)), axis=0)"
   ]
  },
  {
   "cell_type": "code",
   "execution_count": null,
   "metadata": {
    "collapsed": false
   },
   "outputs": [],
   "source": [
    "np.max(_cos, _sin)"
   ]
  },
  {
   "cell_type": "code",
   "execution_count": null,
   "metadata": {
    "collapsed": false
   },
   "outputs": [],
   "source": [
    "adjustment, row.Speed"
   ]
  },
  {
   "cell_type": "code",
   "execution_count": null,
   "metadata": {
    "collapsed": false
   },
   "outputs": [],
   "source": [
    "self.factor_10_to_z * np.where(True, adjustment, row.Speed)"
   ]
  },
  {
   "cell_type": "code",
   "execution_count": null,
   "metadata": {
    "collapsed": true
   },
   "outputs": [],
   "source": [
    "def compute_directional_wind_speed(row):\n",
    "    \"\"\"\n",
    "\n",
    "    :param row: pandas Series of wind\n",
    "    :return:\n",
    "    \"\"\"\n",
    "\n",
    "    # angle of conductor relative to NS\n",
    "    t0 = np.deg2rad(self.AxisAz) - np.pi / 2.0\n",
    "\n",
    "    # angle between wind direction and tower conductor\n",
    "    phi = np.abs(np.deg2rad(row.Bearing) - t0)\n",
    "    tf = (phi <= np.pi / 4) | (phi > np.pi / 4 * 7) | \\\n",
    "         ((phi > np.pi / 4 * 3) & (phi <= np.pi / 4 * 5))\n",
    "\n",
    "    _cos = abs(np.cos(np.pi / 4.0 - phi))\n",
    "    _sin = abs(np.sin(np.pi / 4.0 - phi))\n",
    "\n",
    "    adjustment = row.Speed * np.max(np.vstack((_cos, _sin)), axis=0)\n",
    "\n",
    "    return self.factor_10_to_z * np.where(tf, adjustment, row.Speed)\n"
   ]
  },
  {
   "cell_type": "code",
   "execution_count": null,
   "metadata": {
    "collapsed": true
   },
   "outputs": [],
   "source": [
    "import numpy as np"
   ]
  },
  {
   "cell_type": "code",
   "execution_count": null,
   "metadata": {
    "collapsed": false
   },
   "outputs": [],
   "source": [
    "compute_directional_wind_speed(wind.iloc[0])"
   ]
  },
  {
   "cell_type": "code",
   "execution_count": null,
   "metadata": {
    "collapsed": true
   },
   "outputs": [],
   "source": [
    "wind.apply(compute_directional_wind_speed, axis=1)"
   ]
  },
  {
   "cell_type": "code",
   "execution_count": null,
   "metadata": {
    "collapsed": false
   },
   "outputs": [],
   "source": [
    "for line_name, towers in cfg.towers.groupby('LineRoute'):\n",
    "    line_name, towers"
   ]
  },
  {
   "cell_type": "code",
   "execution_count": null,
   "metadata": {
    "collapsed": false
   },
   "outputs": [],
   "source": [
    "a = towers.to_dict('index')"
   ]
  },
  {
   "cell_type": "code",
   "execution_count": null,
   "metadata": {
    "collapsed": false
   },
   "outputs": [],
   "source": [
    "for key, value in a.items():\n",
    "    key, value"
   ]
  },
  {
   "cell_type": "code",
   "execution_count": null,
   "metadata": {
    "collapsed": false
   },
   "outputs": [],
   "source": [
    "cfg.towers"
   ]
  },
  {
   "cell_type": "code",
   "execution_count": null,
   "metadata": {
    "collapsed": true
   },
   "outputs": [],
   "source": []
  },
  {
   "cell_type": "code",
   "execution_count": null,
   "metadata": {
    "collapsed": true
   },
   "outputs": [],
   "source": []
  },
  {
   "cell_type": "code",
   "execution_count": null,
   "metadata": {
    "collapsed": true
   },
   "outputs": [],
   "source": []
  },
  {
   "cell_type": "code",
   "execution_count": null,
   "metadata": {
    "collapsed": true
   },
   "outputs": [],
   "source": []
  },
  {
   "cell_type": "code",
   "execution_count": null,
   "metadata": {
    "collapsed": true
   },
   "outputs": [],
   "source": []
  },
  {
   "cell_type": "code",
   "execution_count": null,
   "metadata": {
    "collapsed": true
   },
   "outputs": [],
   "source": []
  },
  {
   "cell_type": "code",
   "execution_count": null,
   "metadata": {
    "collapsed": true
   },
   "outputs": [],
   "source": []
  },
  {
   "cell_type": "code",
   "execution_count": null,
   "metadata": {
    "collapsed": true
   },
   "outputs": [],
   "source": []
  },
  {
   "cell_type": "code",
   "execution_count": null,
   "metadata": {
    "collapsed": true
   },
   "outputs": [],
   "source": []
  },
  {
   "cell_type": "code",
   "execution_count": null,
   "metadata": {
    "collapsed": true
   },
   "outputs": [],
   "source": []
  },
  {
   "cell_type": "code",
   "execution_count": null,
   "metadata": {
    "collapsed": true
   },
   "outputs": [],
   "source": []
  },
  {
   "cell_type": "code",
   "execution_count": null,
   "metadata": {
    "collapsed": true
   },
   "outputs": [],
   "source": []
  },
  {
   "cell_type": "code",
   "execution_count": null,
   "metadata": {
    "collapsed": false
   },
   "outputs": [],
   "source": [
    "import numpy as np\n",
    "import pandas as pd\n",
    "import matplotlib.pyplot as plt\n",
    "%pylab inline"
   ]
  },
  {
   "cell_type": "code",
   "execution_count": null,
   "metadata": {
    "collapsed": true
   },
   "outputs": [],
   "source": [
    "import wistl.sim_towers as sim_towers\n",
    "from wistl.config import TransmissionConfig"
   ]
  },
  {
   "cell_type": "code",
   "execution_count": null,
   "metadata": {
    "collapsed": true
   },
   "outputs": [],
   "source": [
    "cfg = TransmissionConfig('./tests/test_line_interaction.cfg')"
   ]
  },
  {
   "cell_type": "code",
   "execution_count": null,
   "metadata": {
    "collapsed": false
   },
   "outputs": [],
   "source": [
    "(damaged_networks, damaged_lines) = sim_towers.sim_towers(cfg)"
   ]
  },
  {
   "cell_type": "code",
   "execution_count": null,
   "metadata": {
    "collapsed": false
   },
   "outputs": [],
   "source": [
    "damaged_networks.keys()"
   ]
  },
  {
   "cell_type": "code",
   "execution_count": null,
   "metadata": {
    "collapsed": true
   },
   "outputs": [],
   "source": [
    "line = damaged_networks['test2_s4.0'].lines['Calaca - Amadeo']"
   ]
  },
  {
   "cell_type": "code",
   "execution_count": null,
   "metadata": {
    "collapsed": false
   },
   "outputs": [],
   "source": [
    "line.tf_array_by_line['Amadeox - Calacax'].shape"
   ]
  },
  {
   "cell_type": "code",
   "execution_count": null,
   "metadata": {
    "collapsed": false
   },
   "outputs": [],
   "source": [
    "damaged_network = damaged_networks['test2_s4.0']\n",
    "type(damaged_network)"
   ]
  },
  {
   "cell_type": "code",
   "execution_count": null,
   "metadata": {
    "collapsed": true
   },
   "outputs": [],
   "source": [
    "damaged_line = damaged_network.lines['Calaca - Amadeo']\n",
    "\n",
    "tf_ds = np.zeros((damaged_line.no_towers,\n",
    "                  damaged_line.cfg.no_sims,\n",
    "                  len(damaged_line.time_index)), dtype=bool)"
   ]
  },
  {
   "cell_type": "code",
   "execution_count": null,
   "metadata": {
    "collapsed": false
   },
   "outputs": [],
   "source": [
    "print(damaged_line.name)"
   ]
  },
  {
   "cell_type": "code",
   "execution_count": null,
   "metadata": {
    "collapsed": false
   },
   "outputs": [],
   "source": [
    "damaged_network.lines['Amadeox - Calacax'].tf_array_by_line['Calaca - Amadeo'].shape"
   ]
  },
  {
   "cell_type": "code",
   "execution_count": null,
   "metadata": {
    "collapsed": true
   },
   "outputs": [],
   "source": [
    "list_relevant = []\n",
    "for key, value in damaged_line.cfg.line_interaction.iteritems():\n",
    "    if damaged_line.name in value:\n",
    "        list_relevant.append(key)\n",
    "        \n",
    "        tf_ds += damaged_network.lines[key].tf_array_by_line[damaged_line.name]"
   ]
  },
  {
   "cell_type": "code",
   "execution_count": null,
   "metadata": {
    "collapsed": false
   },
   "outputs": [],
   "source": [
    "tf_ds[:, :, 741].sum(axis=0)"
   ]
  },
  {
   "cell_type": "code",
   "execution_count": null,
   "metadata": {
    "collapsed": false
   },
   "outputs": [],
   "source": [
    "damaged_line.towers['AC-099'].damage_isolation_mc['collapse']['id_sim'].values"
   ]
  },
  {
   "cell_type": "code",
   "execution_count": null,
   "metadata": {
    "collapsed": false
   },
   "outputs": [],
   "source": [
    "# append collapse by isolation\n",
    "for tower in damaged_line.towers.itervalues():\n",
    "\n",
    "    tf_ds[tower.id,\n",
    "          tower.damage_isolation_mc['collapse']['id_sim'].values,\n",
    "          tower.damage_isolation_mc['collapse']['id_time'].values] = True\n",
    "\n",
    "    for id_adj, grouped in tower.damage_adjacent_mc.groupby('id_adj'):\n",
    "        for i in id_adj:\n",
    "            tf_ds[i, grouped['id_sim'].values, grouped['id_time'].values] = True\n",
    "\n",
    "\n",
    "tf_sim = dict()\n",
    "tf_sim['collapse'] = tf_ds\n",
    "tf_sim['minor'] = tf_ds\n",
    "\n",
    "(est, prob) = damaged_line.compute_damage_stats(tf_sim)\n",
    "\n",
    "(est['collapse']- damaged_line.est_no_damage_simulation['collapse'])['mean'].plot()"
   ]
  },
  {
   "cell_type": "code",
   "execution_count": null,
   "metadata": {
    "collapsed": true
   },
   "outputs": [],
   "source": [
    "#tf_ds_collapse_isolation\n",
    "# collapse by adjacent towers\n",
    "for tower in damaged_line.towers.itervalues():\n",
    "    \n",
    "    for id_adj, grouped in tower.damage_adjacent_mc.groupby('id_adj'):\n",
    "        for i in id_adj:\n",
    "            tf_ds[i, grouped['id_sim'].values, grouped['id_time'].values] = True\n",
    "\n",
    "tf_sim = dict()\n",
    "tf_sim['collapse'] = tf_ds\n",
    "tf_sim['minor'] = tf_ds\n",
    "\n",
    "(est, prob) = damaged_line.compute_damage_stats(tf_sim)\n",
    "\n",
    "est['collapse'].plot()\n",
    "\n",
    "\n",
    "damaged_line.est_no_damage_simulation['collapse'].plot()"
   ]
  },
  {
   "cell_type": "code",
   "execution_count": null,
   "metadata": {
    "collapsed": false
   },
   "outputs": [],
   "source": [
    "for line_name, damaged_line  in damaged_network.lines.iteritems():\n",
    "\n",
    "    tf_ds = np.zeros((damaged_line.no_towers,\n",
    "                      damaged_line.cfg.no_sims,\n",
    "                      len(damaged_line.time_index)), dtype=bool)\n",
    "\n",
    "    # add collapse by line interaction\n",
    "    list_relavant = []\n",
    "    for key, value in damaged_line.cfg.line_interaction.iteritems():\n",
    "        if line_name in value:\n",
    "            list_relavant.append(key)\n",
    "\n",
    "            tf_ds += damaged_network.lines[key].\n",
    "            \n",
    "\n",
    "\n",
    "    # collapse by adjacent towers\n",
    "    for tower in self.towers.itervalues():\n",
    "\n",
    "        # tower.compute_mc_adj(rv, seed)\n",
    "        tower.determine_damage_isolation_mc(rv)\n",
    "        tower.determine_damage_adjacent_mc(seed)\n",
    "\n",
    "        for id_adj, grouped in tower.damage_adjacent_mc.groupby('id_adj'):\n",
    "            for i in id_adj:\n",
    "                tf_ds[i, grouped['id_sim'].values, grouped['id_time'].values] = True\n",
    "\n",
    "    cds_list = self.cfg.damage_states[:]  # to avoid effect\n",
    "    cds_list.reverse()  # [collapse, minor]\n",
    "\n",
    "    tf_sim = dict()\n",
    "    # append damage state by direct wind\n",
    "    for ds in cds_list:\n",
    "        for tower in self.towers.itervalues():\n",
    "\n",
    "            tf_ds[tower.id,\n",
    "                  tower.damage_isolation_mc[ds].id_sim,\n",
    "                  tower.damage_isolation_mc[ds].id_time] = True\n",
    "\n",
    "        self.damage_prob_simulation[ds] = pd.DataFrame(\n",
    "            np.sum(tf_ds, axis=1).T / float(self.cfg.no_sims),\n",
    "            columns=self.name_by_line,\n",
    "            index=self.time_index)\n",
    "\n",
    "        tf_sim[ds] = np.copy(tf_ds)  #\n",
    "\n",
    "    self.est_no_damage_simulation, self.prob_no_damage_simulation = \\\n",
    "        self.compute_damage_stats(tf_sim)\n",
    "\n",
    "    if self.cfg.save:\n",
    "        self.write_hdf5(file_str='damage_prob_simulation',\n",
    "                        value=self.damage_prob_simulation)\n",
    "\n",
    "        self.write_hdf5(file_str='est_no_damage_simulation',\n",
    "                        value=self.est_no_damage_simulation)\n",
    "\n",
    "        self.write_hdf5(file_str='prob_no_damage_simulation',\n",
    "                        value=self.prob_no_damage_simulation)"
   ]
  },
  {
   "cell_type": "code",
   "execution_count": null,
   "metadata": {
    "collapsed": true
   },
   "outputs": [],
   "source": [
    "line.compute_damage_probability_simulation_line_interaction(11)"
   ]
  },
  {
   "cell_type": "code",
   "execution_count": null,
   "metadata": {
    "collapsed": false
   },
   "outputs": [],
   "source": [
    "line.tf_array_by_line['Amadeox - Calacax'].sum(axis=1).sum(axis=1)"
   ]
  },
  {
   "cell_type": "code",
   "execution_count": null,
   "metadata": {
    "collapsed": false
   },
   "outputs": [],
   "source": [
    "line.tf_array_by_line['Calaca - Santa Rosa'].shape"
   ]
  },
  {
   "cell_type": "code",
   "execution_count": null,
   "metadata": {
    "collapsed": false
   },
   "outputs": [],
   "source": [
    "cfg.no_sims"
   ]
  },
  {
   "cell_type": "code",
   "execution_count": null,
   "metadata": {
    "collapsed": true
   },
   "outputs": [],
   "source": []
  }
 ],
 "metadata": {
  "kernelspec": {
   "display_name": "Python 2",
   "language": "python",
   "name": "python2"
  },
  "language_info": {
   "codemirror_mode": {
    "name": "ipython",
    "version": 2
   },
   "file_extension": ".py",
   "mimetype": "text/x-python",
   "name": "python",
   "nbconvert_exporter": "python",
   "pygments_lexer": "ipython2",
   "version": "2.7.11"
  }
 },
 "nbformat": 4,
 "nbformat_minor": 0
}
